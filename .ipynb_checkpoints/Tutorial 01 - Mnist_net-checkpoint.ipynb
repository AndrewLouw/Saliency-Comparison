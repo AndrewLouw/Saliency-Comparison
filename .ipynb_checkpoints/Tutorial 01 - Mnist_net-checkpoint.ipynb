{
 "cells": [
  {
   "cell_type": "markdown",
   "metadata": {},
   "source": [
    "## Importing and demonstrating the network:\n",
    "\n",
    "Start by importing the necessary libraries"
   ]
  },
  {
   "cell_type": "code",
   "execution_count": 1,
   "metadata": {},
   "outputs": [],
   "source": [
    "from tensorflow.examples.tutorials.mnist import input_data\n",
    "import tensorflow as tf\n",
    "\n",
    "#new class containing everything for a convolutional network\n",
    "import Mnist_net as mn\n",
    "\n",
    "import numpy as np\n",
    "import scipy\n",
    "import matplotlib.pyplot as plt\n",
    "%matplotlib inline"
   ]
  },
  {
   "cell_type": "markdown",
   "metadata": {},
   "source": [
    "Import the data (this step could be skipped but it can save time if experimenting with more than one networks) "
   ]
  },
  {
   "cell_type": "code",
   "execution_count": 2,
   "metadata": {},
   "outputs": [
    {
     "name": "stdout",
     "output_type": "stream",
     "text": [
      "Extracting data/MNIST/train-images-idx3-ubyte.gz\n",
      "Extracting data/MNIST/train-labels-idx1-ubyte.gz\n",
      "Extracting data/MNIST/t10k-images-idx3-ubyte.gz\n",
      "Extracting data/MNIST/t10k-labels-idx1-ubyte.gz\n"
     ]
    }
   ],
   "source": [
    "#get the MNIST data from tensorflow \n",
    "data = input_data.read_data_sets('data/MNIST/', one_hot=True)"
   ]
  },
  {
   "cell_type": "markdown",
   "metadata": {},
   "source": [
    "Creating the structure:\n",
    "\n",
    "When loading the network the structure needs to be given as an input, if loading from a saved network the input structure must be consistent with the saved structure. Structure is encoded for each layer as:\n",
    "\n",
    "[size of filters/number of neurons, number of filters/MLP, use pooling/use_ReLU, use biases]\n",
    "\n",
    "If number of filters is less than 1 then the network is a MLP not convnet. The last two get converted to boolean from 1 or 0. There is a fully connected layer added by default at the end of the network\n"
   ]
  },
  {
   "cell_type": "code",
   "execution_count": 3,
   "metadata": {},
   "outputs": [],
   "source": [
    "#the network is an MLP with 400,200,100,50 layers, with biases and RelU non-linearities.\n",
    "structure =np.array([[400,0,1,1],[200,0,1,1],[100,0,1,1],[50,0,1,1]])\n",
    "netsize = len(structure) # this variable is useful to have "
   ]
  },
  {
   "cell_type": "markdown",
   "metadata": {},
   "source": [
    "Initialise and set up the network, here we are loading a previously saved (trained) model, but setting “load = None” would create a new network with random parameters, the offset parameter allows the input image to be shifted to a different range – this is useful for many techniques. Offset must also match the original saved network's offset."
   ]
  },
  {
   "cell_type": "code",
   "execution_count": 4,
   "metadata": {},
   "outputs": [
    {
     "name": "stdout",
     "output_type": "stream",
     "text": [
      "INFO:tensorflow:Restoring parameters from ./Models/MLP\n"
     ]
    }
   ],
   "source": [
    "#create a new instance of the network\n",
    "net = mn.network()\n",
    "#setup - load weights from previosly trained model\n",
    "net.setup(load = \"./Models/MLP\",structure=structure,end_relu = True,end_biases = True, data = data,offset = -0.5)"
   ]
  },
  {
   "cell_type": "markdown",
   "metadata": {},
   "source": [
    "The network can be trained now:"
   ]
  },
  {
   "cell_type": "code",
   "execution_count": 5,
   "metadata": {
    "scrolled": false
   },
   "outputs": [],
   "source": [
    "#an untrained model would be optimised here\n",
    "#net.optimize(7000)"
   ]
  },
  {
   "cell_type": "markdown",
   "metadata": {},
   "source": [
    "And the weights saved to a user defined filepath (default is \"./Models/MNIST_model\" )"
   ]
  },
  {
   "cell_type": "code",
   "execution_count": 6,
   "metadata": {},
   "outputs": [],
   "source": [
    "#the model can then be saved\n",
    "net.save(\"./Models/MLP\")"
   ]
  },
  {
   "cell_type": "markdown",
   "metadata": {},
   "source": [
    "Test the network on an image from the test set:"
   ]
  },
  {
   "cell_type": "code",
   "execution_count": 7,
   "metadata": {},
   "outputs": [
    {
     "name": "stdout",
     "output_type": "stream",
     "text": [
      "Prediction is: 4\n"
     ]
    },
    {
     "data": {
      "image/png": "[encoded data removed]",
      "text/plain": [
       "<matplotlib.figure.Figure at 0x2248fd82c18>"
      ]
     },
     "metadata": {},
     "output_type": "display_data"
    }
   ],
   "source": [
    "im=data.test.images[6]\n",
    "prediction = net.give_class(im)\n",
    "\n",
    "print(\"Prediction is: %d\"%prediction)\n",
    "\n",
    "net.plot_image(im)"
   ]
  },
  {
   "cell_type": "markdown",
   "metadata": {},
   "source": [
    "TensorFlow session operations can be run with \"net.session.run\":"
   ]
  },
  {
   "cell_type": "code",
   "execution_count": 8,
   "metadata": {},
   "outputs": [
    {
     "data": {
      "text/plain": [
       "array([[2.9054108e-06, 5.1128964e-06, 2.9054108e-06, 2.9054108e-06,\n",
       "        9.9980444e-01, 2.9054108e-06, 3.2543712e-06, 2.9054108e-06,\n",
       "        1.6672935e-04, 6.1139281e-06]], dtype=float32)"
      ]
     },
     "execution_count": 8,
     "metadata": {},
     "output_type": "execute_result"
    }
   ],
   "source": [
    "net.session.run(net.y_pred,feed_dict={net.x: [im]})"
   ]
  },
  {
   "cell_type": "markdown",
   "metadata": {},
   "source": [
    "But there are also built in functions:"
   ]
  },
  {
   "cell_type": "code",
   "execution_count": 11,
   "metadata": {},
   "outputs": [
    {
     "data": {
      "text/plain": [
       "array([[2.9054108e-06, 5.1128964e-06, 2.9054108e-06, 2.9054108e-06,\n",
       "        9.9980444e-01, 2.9054108e-06, 3.2543712e-06, 2.9054108e-06,\n",
       "        1.6672935e-04, 6.1139281e-06]], dtype=float32)"
      ]
     },
     "execution_count": 11,
     "metadata": {},
     "output_type": "execute_result"
    }
   ],
   "source": [
    "net.give_prob(im)"
   ]
  },
  {
   "cell_type": "code",
   "execution_count": null,
   "metadata": {},
   "outputs": [],
   "source": []
  }
 ],
 "metadata": {
  "kernelspec": {
   "display_name": "Python 3",
   "language": "python",
   "name": "python3"
  },
  "language_info": {
   "codemirror_mode": {
    "name": "ipython",
    "version": 3
   },
   "file_extension": ".py",
   "mimetype": "text/x-python",
   "name": "python",
   "nbconvert_exporter": "python",
   "pygments_lexer": "ipython3",
   "version": "3.5.4"
  }
 },
 "nbformat": 4,
 "nbformat_minor": 2
}
