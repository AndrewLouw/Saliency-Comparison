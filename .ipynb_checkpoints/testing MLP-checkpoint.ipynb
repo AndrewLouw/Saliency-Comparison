{
 "cells": [
  {
   "cell_type": "code",
   "execution_count": 1,
   "metadata": {},
   "outputs": [],
   "source": [
    "from tensorflow.examples.tutorials.mnist import input_data\n",
    "import tensorflow as tf"
   ]
  },
  {
   "cell_type": "code",
   "execution_count": 2,
   "metadata": {
    "collapsed": true
   },
   "outputs": [],
   "source": [
    "#new class containing everything for a convolutional network\n",
    "import Minst_net as mn\n",
    "\n",
    "import numpy as np\n",
    "import scipy\n",
    "import matplotlib.pyplot as plt\n",
    "%matplotlib inline"
   ]
  },
  {
   "cell_type": "code",
   "execution_count": 3,
   "metadata": {},
   "outputs": [
    {
     "data": {
      "text/plain": [
       "<module 'Minst_net' from 'C:\\\\Users\\\\user\\\\Documents\\\\GitHub\\\\Saliency Comparison\\\\Minst_net.py'>"
      ]
     },
     "execution_count": 3,
     "metadata": {},
     "output_type": "execute_result"
    }
   ],
   "source": [
    "import importlib\n",
    "importlib.reload(mn)"
   ]
  },
  {
   "cell_type": "code",
   "execution_count": 4,
   "metadata": {},
   "outputs": [
    {
     "name": "stdout",
     "output_type": "stream",
     "text": [
      "Extracting data/MNIST/train-images-idx3-ubyte.gz\n",
      "Extracting data/MNIST/train-labels-idx1-ubyte.gz\n",
      "Extracting data/MNIST/t10k-images-idx3-ubyte.gz\n",
      "Extracting data/MNIST/t10k-labels-idx1-ubyte.gz\n"
     ]
    }
   ],
   "source": [
    "#get the MNIST data from tensorflow \n",
    "\n",
    "data = input_data.read_data_sets('data/MNIST/', one_hot=True)"
   ]
  },
  {
   "cell_type": "code",
   "execution_count": 5,
   "metadata": {
    "collapsed": true
   },
   "outputs": [],
   "source": [
    "#structure is encoded for each layer as:\n",
    "#[size of filters, number of filters, use biases, use pooling, use biases]\n",
    "#the last two get converted to boolean from 1 or 0\n",
    "#there is a fully connected layer added by default at the end of the network\n",
    "structure =np.array([[200,0,1,1],[100,0,1,1],[50,0,1,1]])"
   ]
  },
  {
   "cell_type": "code",
   "execution_count": 6,
   "metadata": {
    "scrolled": false
   },
   "outputs": [
    {
     "name": "stdout",
     "output_type": "stream",
     "text": [
      "INFO:tensorflow:Restoring parameters from ./Models/MLP\n"
     ]
    }
   ],
   "source": [
    "#create a new instance of the network\n",
    "net = mn.network()\n",
    "\n",
    "#setup - load weights from previosly trained model\n",
    "net.setup(load = \"./Models/MLP\",structure=structure,end_relu = True,end_biases = True, data = data)"
   ]
  },
  {
   "cell_type": "code",
   "execution_count": 7,
   "metadata": {},
   "outputs": [],
   "source": [
    "#an untrained model would be optimised here\n",
    "\n",
    "#net.optimize(8000)"
   ]
  },
  {
   "cell_type": "code",
   "execution_count": 8,
   "metadata": {},
   "outputs": [],
   "source": [
    "#the model can then be saved\n",
    "\n",
    "#net.save(\"./Models/MLP\")"
   ]
  },
  {
   "cell_type": "code",
   "execution_count": 9,
   "metadata": {},
   "outputs": [
    {
     "name": "stdout",
     "output_type": "stream",
     "text": [
      "Prediction is: 7\n"
     ]
    },
    {
     "data": {
      "image/png": "[encoded data removed]",
      "text/plain": [
       "<matplotlib.figure.Figure at 0x18306b20a58>"
      ]
     },
     "metadata": {},
     "output_type": "display_data"
    }
   ],
   "source": [
    "#test on an image from the test set\n",
    "im=data.test.images[0]\n",
    "prediction = net.give_class(im)\n",
    "\n",
    "print(\"Prediction is: %d\"%prediction)\n",
    "\n",
    "net.plot_image(im)"
   ]
  },
  {
   "cell_type": "code",
   "execution_count": 10,
   "metadata": {},
   "outputs": [
    {
     "data": {
      "text/plain": [
       "array([[  3.42424435e-04,   1.89253013e-04,   1.89253013e-04,\n",
       "          1.02811959e-03,   1.89253013e-04,   1.89253013e-04,\n",
       "          1.89253013e-04,   9.95304823e-01,   1.89253013e-04,\n",
       "          2.18917266e-03]], dtype=float32)"
      ]
     },
     "execution_count": 10,
     "metadata": {},
     "output_type": "execute_result"
    }
   ],
   "source": [
    "net.give_prob(im)"
   ]
  },
  {
   "cell_type": "code",
   "execution_count": 11,
   "metadata": {
    "collapsed": true
   },
   "outputs": [],
   "source": [
    "structure =np.array([[200,0,1,1],[100,0,1,1],[50,0,1,1]])"
   ]
  },
  {
   "cell_type": "code",
   "execution_count": 12,
   "metadata": {},
   "outputs": [],
   "source": [
    "x = im.flatten()\n",
    "w0 = net.session.run(net.weights[0])\n",
    "b0 = net.session.run(net.biases[0])\n",
    "y = x.dot(w0)+b0 #use biases\n",
    "x0=y*(y>0) #use RElu\n",
    "\n",
    "w1 = net.session.run(net.weights[1])\n",
    "b1 = net.session.run(net.biases[1])\n",
    "y = x0.dot(w1)+b1\n",
    "x1=y*(y>0)\n",
    "\n",
    "w2 = net.session.run(net.weights[2])\n",
    "b2 = net.session.run(net.biases[2])\n",
    "y = x1.dot(w2)+b2\n",
    "x2=y*(y>0)\n",
    "\n",
    "w3 = net.session.run(net.weights[3])\n",
    "b3 = net.session.run(net.biases[3])\n",
    "y = x2.dot(w3)+b3\n",
    "x3=y*(y>0)"
   ]
  },
  {
   "cell_type": "code",
   "execution_count": 13,
   "metadata": {},
   "outputs": [
    {
     "data": {
      "text/plain": [
       "array([[ 0.59296626,  0.        ,  0.        ,  1.69240177,  0.        ,\n",
       "         0.        ,  0.        ,  8.56771946,  0.        ,  2.44819403]], dtype=float32)"
      ]
     },
     "execution_count": 13,
     "metadata": {},
     "output_type": "execute_result"
    }
   ],
   "source": [
    "net.give_prob(im,3)"
   ]
  },
  {
   "cell_type": "code",
   "execution_count": 14,
   "metadata": {},
   "outputs": [
    {
     "data": {
      "text/plain": [
       "array([ 0.5929662 , -0.        , -0.        ,  1.69240224, -0.        ,\n",
       "       -0.        , -0.        ,  8.56772137, -0.        ,  2.44819403], dtype=float32)"
      ]
     },
     "execution_count": 14,
     "metadata": {},
     "output_type": "execute_result"
    }
   ],
   "source": [
    "x3"
   ]
  },
  {
   "cell_type": "code",
   "execution_count": 15,
   "metadata": {},
   "outputs": [
    {
     "data": {
      "text/plain": [
       "[7, 9]"
      ]
     },
     "execution_count": 15,
     "metadata": {},
     "output_type": "execute_result"
    }
   ],
   "source": [
    "#Main boundary constraint:\n",
    "#why 7 not 9?\n",
    "Prediction=np.argmax(net.give_prob(im,3)) #most popular\n",
    "Comparison = net.give_prob(im,3).argsort()[0][-2:][0] #-2 is second most popular\n",
    "[Prediction,Comparison]"
   ]
  },
  {
   "cell_type": "code",
   "execution_count": 228,
   "metadata": {},
   "outputs": [],
   "source": [
    "constraints=[]\n",
    "#backpropigate final layer\n",
    "w0 = net.session.run(net.weights[0]).copy()\n",
    "b0 = net.session.run(net.biases[0]).copy()\n",
    "\n",
    "w1 = net.session.run(net.weights[1]).copy()\n",
    "b1 = net.session.run(net.biases[1]).copy()\n",
    "\n",
    "w2 = net.session.run(net.weights[2]).copy()\n",
    "b2 = net.session.run(net.biases[2]).copy()\n",
    "\n",
    "wt = net.session.run(net.weights[3]).copy()\n",
    "bt = net.session.run(net.biases[3]).copy()\n",
    "\n",
    "w3=(wt[:,Comparison]-wt[:,Prediction]).copy()\n",
    "b3=(bt[Comparison]-bt[Prediction]).copy()\n",
    "\n",
    "W=w0.dot(w1).dot(w2).dot(w3)\n",
    "B=b0.dot(w1).dot(w2).dot(w3)+b1.dot(w2).dot(w3)+b2.dot(w3)+b3\n",
    "\n",
    "#the final value needs comparison more likely than prediction\n",
    "constraints.append([W,[B]])\n",
    "\n",
    "#backpropigate layer 2 - each node must be positive\n",
    "for node in range(0,b2.size):\n",
    "    \n",
    "    wt = w2.copy()\n",
    "    bt = b2.copy()\n",
    "    wt[:,node] = 0\n",
    "    bt[node] = 0\n",
    "        \n",
    "    W=w0.dot(w1).dot(wt).dot(w3)\n",
    "    B=b0.dot(w1).dot(wt).dot(w3)+b1.dot(wt).dot(w3)+bt.dot(w3)+b3\n",
    "    constraints.append([W,[B]])\n",
    "\n",
    "#backpropigate layer 1 - each node must be positive\n",
    "for node in range(0,b1.size):\n",
    "    wt = w1.copy()\n",
    "    bt = b1.copy()\n",
    "    wt[:,node] = 0\n",
    "    bt[node] = 0\n",
    "    \n",
    "    W=w0.dot(wt).dot(w2).dot(w3)\n",
    "    B=b0.dot(wt).dot(w2).dot(w3)+bt.dot(w2).dot(w3)+b2.dot(w3)+b3\n",
    "    constraints.append([W,[B]])\n",
    "\n",
    "#backpropigate layer 0 - each node must be positive\n",
    "for node in range(0,b0.size):\n",
    "    wt = w0.copy()\n",
    "    bt = b0.copy()\n",
    "    wt[:,node] = 0\n",
    "    bt[node] = 0\n",
    "    \n",
    "    W=wt.dot(w1).dot(w2).dot(w3)\n",
    "    B=bt.dot(w1).dot(w2).dot(w3)+b1.dot(w2).dot(w3)+b2.dot(w3)+b3\n",
    "    constraints.append([W,[B]])\n",
    "\n",
    "#backpropigate image 0 - each node must be positive\n",
    "for node in range(0,im.size):\n",
    "    wt = np.identity(im.size)\n",
    "    wt[:,node] = 0\n",
    "    \n",
    "    W=wt.dot(w0).dot(w1).dot(w2).dot(w3)\n",
    "    B=b0.dot(w1).dot(w2).dot(w3)+b1.dot(w2).dot(w3)+b2.dot(w3)+b3\n",
    "    constraints.append([W,[B]])\n",
    "\n",
    "    #also must be less than 1    \n",
    "for node in range(0,im.size):\n",
    "    wt = np.identity(im.size)\n",
    "    bt = np.zeros(im.size)\n",
    "    wt[:,node] = 0\n",
    "    bt[node] = 1\n",
    "    \n",
    "    W=wt.dot(w0).dot(w1).dot(w2).dot(w3)\n",
    "   B=bt.dot(w0).dot(w1).dot(w2).dot(w3)+b0.dot(w1).dot(w2).dot(w3)+b1.dot(w2).dot(w3)+b2.dot(w3)+b3\n",
    "    constraints.append([W,[B]])\n",
    "    \n",
    "    \n",
    "#normalize\n",
    "\n",
    "for constraint in range(0,len(constraints)):\n",
    "    norm = np.linalg.norm(constraints[constraint][0])\n",
    "    constraints[constraint][1] = constraints[constraint][1]/norm\n",
    "    constraints[constraint][0] = constraints[constraint][0]/norm\n",
    "    \n",
    "    "
   ]
  },
  {
   "cell_type": "code",
   "execution_count": 246,
   "metadata": {
    "collapsed": true
   },
   "outputs": [],
   "source": [
    "constraints=[]\n",
    "#backpropigate final layer\n",
    "w0 = net.session.run(net.weights[0]).copy()\n",
    "b0 = net.session.run(net.biases[0]).copy()\n",
    "\n",
    "w1 = net.session.run(net.weights[1]).copy()\n",
    "b1 = net.session.run(net.biases[1]).copy()\n",
    "\n",
    "w2 = net.session.run(net.weights[2]).copy()\n",
    "b2 = net.session.run(net.biases[2]).copy()\n",
    "\n",
    "wt = net.session.run(net.weights[3]).copy()\n",
    "bt = net.session.run(net.biases[3]).copy()\n",
    "\n",
    "#the final value needs comparison more likely than prediction\n",
    "w3=(wt[:,Comparison]-wt[:,Prediction]).copy()\n",
    "b3=(bt[Comparison]-bt[Prediction]).copy()\n",
    "\n",
    "W=w0.dot(w1).dot(w2).dot(w3)\n",
    "B=b0.dot(w1).dot(w2).dot(w3)+b1.dot(w2).dot(w3)+b2.dot(w3)+b3\n",
    "\n",
    "\n",
    "constraints.append([W,[B]])\n",
    "\n",
    "#backpropigate layer 2 - each node must be positive\n",
    "for node in range(0,b2.size):   \n",
    "    wt = w2.copy()\n",
    "    bt = b2.copy()\n",
    "    wt[:,node] = 0\n",
    "    bt[node] = 0\n",
    "        \n",
    "    W=w0.dot(w1).dot(wt).dot(w3)\n",
    "    B=b0.dot(w1).dot(wt).dot(w3)+b1.dot(wt).dot(w3)+bt.dot(w3)+b3\n",
    "    constraints.append([W,[B]])\n",
    "\n",
    "#normalize\n",
    "\n",
    "for constraint in range(0,len(constraints)):\n",
    "    norm = np.linalg.norm(constraints[constraint][0])\n",
    "    constraints[constraint][1] = constraints[constraint][1]/norm\n",
    "    constraints[constraint][0] = constraints[constraint][0]/norm\n",
    "    \n",
    "    "
   ]
  },
  {
   "cell_type": "code",
   "execution_count": null,
   "metadata": {},
   "outputs": [],
   "source": [
    "#find point to hyperplane distances - only interested in the negative ones\n",
    "#so keep track of the constraints we still need seperatly\n",
    "point = im.flatten().copy()\n",
    "self_dists =np.array([])\n",
    "crit_dists =np.array([])\n",
    "\n",
    "dead_constraints = []\n",
    "\n",
    "n0 = constraints[0][0]\n",
    "\n",
    "for constraint in range(0,len(constraints)):\n",
    "    \n",
    "    W=constraints[constraint][0]\n",
    "    B=constraints[constraint][1]\n",
    "    \n",
    "    self_dist = (-B-point.dot(W))/W.dot(W)\n",
    "    crit_dist = self_dist\n",
    "\n",
    "    self_dists=np.append(self_dists,self_dist[0])\n",
    "    crit_dists=np.append(crit_dists,crit_dist[0])\n",
    "                \n",
    "Found = False\n",
    "while not Found:\n",
    "    #find the closest edge\n",
    "    constraint_met = True\n",
    "    check_constraint = 1\n",
    "    while constraint_met:\n",
    "        if check_constraint>len(constraints):\n",
    "            break\n",
    "        else:\n",
    "            constraint = crit_dists.argsort()[check_constraint]\n",
    "            if constraint not in dead_constraints:\n",
    "                if point.dot(constraints[constraint][0])+constraints[constraint][1]>0:\n",
    "                    check_constraint = check_constraint+1\n",
    "                else:\n",
    "                    constrain_met = False\n",
    "    if constrain_met:\n",
    "        Found = True\n",
    "    else:\n",
    "        print(constraint)\n",
    "        W=constraints[constraint][0].copy()\n",
    "        B=constraints[constraint][1].copy()\n",
    "        point = point + dist*W\n",
    "        dead_constraints.append(constraint)\n",
    "        self_dists =np.array([])\n",
    "        \n",
    "        for constraint in range(0,len(constraints)):\n",
    "            W=constraints[constraint][0]\n",
    "            B=constraints[constraint][1]\n",
    "            self_dist = (-B-point.dot(W))/W.dot(W)\n",
    "            self_dists=np.append(self_dists,self_dist[0]) \n"
   ]
  },
  {
   "cell_type": "code",
   "execution_count": 248,
   "metadata": {},
   "outputs": [
    {
     "data": {
      "image/png": "[encoded data removed]",
      "text/plain": [
       "<matplotlib.figure.Figure at 0x183092502e8>"
      ]
     },
     "metadata": {},
     "output_type": "display_data"
    }
   ],
   "source": [
    "net.plot_image(point)"
   ]
  },
  {
   "cell_type": "code",
   "execution_count": 242,
   "metadata": {},
   "outputs": [
    {
     "data": {
      "text/plain": [
       "array([  5.57396561e-06], dtype=float32)"
      ]
     },
     "execution_count": 242,
     "metadata": {},
     "output_type": "execute_result"
    }
   ],
   "source": [
    "point.dot(constraints[0][0])+constraints[0][1]"
   ]
  },
  {
   "cell_type": "code",
   "execution_count": 234,
   "metadata": {},
   "outputs": [
    {
     "data": {
      "text/plain": [
       "array([ 0.00448154,  0.00448154,  0.00448154,  0.00448154,  0.00448154,\n",
       "        0.00448154,  0.00448154,  0.62438476,  0.00448154,  0.33976296], dtype=float32)"
      ]
     },
     "execution_count": 234,
     "metadata": {},
     "output_type": "execute_result"
    }
   ],
   "source": [
    "net.give_prob(point)[0]"
   ]
  },
  {
   "cell_type": "code",
   "execution_count": 235,
   "metadata": {},
   "outputs": [
    {
     "data": {
      "text/plain": [
       "array([  3.42424435e-04,   1.89253013e-04,   1.89253013e-04,\n",
       "         1.02811959e-03,   1.89253013e-04,   1.89253013e-04,\n",
       "         1.89253013e-04,   9.95304823e-01,   1.89253013e-04,\n",
       "         2.18917266e-03], dtype=float32)"
      ]
     },
     "execution_count": 235,
     "metadata": {},
     "output_type": "execute_result"
    }
   ],
   "source": [
    "net.give_prob(im)[0]"
   ]
  },
  {
   "cell_type": "code",
   "execution_count": 236,
   "metadata": {},
   "outputs": [
    {
     "data": {
      "image/png": "[encoded data removed]",
      "text/plain": [
       "<matplotlib.figure.Figure at 0x1830764ef60>"
      ]
     },
     "metadata": {},
     "output_type": "display_data"
    }
   ],
   "source": [
    "point = point*(point>0)\n",
    "point = point*(point<1)\n",
    "net.plot_image(point)"
   ]
  },
  {
   "cell_type": "code",
   "execution_count": 237,
   "metadata": {},
   "outputs": [
    {
     "data": {
      "text/plain": [
       "array([ 0.01861604,  0.00454876,  0.00454876,  0.01136267,  0.00454876,\n",
       "        0.00454876,  0.00454876,  0.93081641,  0.00454876,  0.01191237], dtype=float32)"
      ]
     },
     "execution_count": 237,
     "metadata": {},
     "output_type": "execute_result"
    }
   ],
   "source": [
    "net.give_prob(point)[0]"
   ]
  },
  {
   "cell_type": "code",
   "execution_count": 238,
   "metadata": {},
   "outputs": [
    {
     "data": {
      "text/plain": [
       "7"
      ]
     },
     "execution_count": 238,
     "metadata": {},
     "output_type": "execute_result"
    }
   ],
   "source": [
    "net.give_class(point)"
   ]
  }
 ],
 "metadata": {
  "kernelspec": {
   "display_name": "Python 3",
   "language": "python",
   "name": "python3"
  },
  "language_info": {
   "codemirror_mode": {
    "name": "ipython",
    "version": 3
   },
   "file_extension": ".py",
   "mimetype": "text/x-python",
   "name": "python",
   "nbconvert_exporter": "python",
   "pygments_lexer": "ipython3",
   "version": "3.6.1"
  }
 },
 "nbformat": 4,
 "nbformat_minor": 2
}
