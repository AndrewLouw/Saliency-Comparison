{
 "cells": [
  {
   "cell_type": "markdown",
   "metadata": {},
   "source": [
    "# Deep Taylor Decomposition and Geometric Saliency \n"
   ]
  },
  {
   "cell_type": "markdown",
   "metadata": {},
   "source": [
    "## Importing and the network:\n",
    "\n",
    "See Tutorial 01"
   ]
  },
  {
   "cell_type": "code",
   "execution_count": 1,
   "metadata": {},
   "outputs": [
    {
     "name": "stdout",
     "output_type": "stream",
     "text": [
      "Extracting data/MNIST/train-images-idx3-ubyte.gz\n",
      "Extracting data/MNIST/train-labels-idx1-ubyte.gz\n",
      "Extracting data/MNIST/t10k-images-idx3-ubyte.gz\n",
      "Extracting data/MNIST/t10k-labels-idx1-ubyte.gz\n",
      "INFO:tensorflow:Restoring parameters from ./Models/MLP\n",
      "Prediction is: 4\n"
     ]
    },
    {
     "data": {
      "image/png": "[encoded data removed]",
      "text/plain": [
       "<matplotlib.figure.Figure at 0x29f85ad1470>"
      ]
     },
     "metadata": {},
     "output_type": "display_data"
    }
   ],
   "source": [
    "from tensorflow.examples.tutorials.mnist import input_data\n",
    "import tensorflow as tf\n",
    "import Mnist_net as mn\n",
    "import numpy as np\n",
    "import scipy\n",
    "import matplotlib.pyplot as plt\n",
    "%matplotlib inline\n",
    "\n",
    "data = input_data.read_data_sets('data/MNIST/', one_hot=True)\n",
    "structure =np.array([[400,0,1,1],[200,0,1,1],[100,0,1,1],[50,0,1,1]])\n",
    "netsize = len(structure) # this variable is useful to have \n",
    "\n",
    "net = mn.network()\n",
    "net.setup(load = \"./Models/MLP\",structure=structure,end_relu = True,end_biases = True, data = data,offset = -0.5)\n",
    "#net.optimize(8000)\n",
    "#net.save(\"./Models/MLP\")\n",
    "\n",
    "im=data.test.images[6]\n",
    "prediction = net.give_class(im)\n",
    "print(\"Prediction is: %d\"%prediction)\n",
    "net.plot_image(im)"
   ]
  },
  {
   "cell_type": "markdown",
   "metadata": {},
   "source": [
    "## Deep Taylor"
   ]
  },
  {
   "cell_type": "markdown",
   "metadata": {},
   "source": [
    "The complete form of the Deep taylor algorithm is given below:"
   ]
  },
  {
   "cell_type": "code",
   "execution_count": 2,
   "metadata": {},
   "outputs": [],
   "source": [
    "def Deep_Taylor(net,im, prediction = None,suppress_out = False):\n",
    "    \"\"\"\n",
    "    net: a mnist_net object\n",
    "    im: a image to analyse\n",
    "    prediction: if None the entire output array is back propagated, if it has a value (0-9) then only that class' relevance will be propagated\n",
    "    suppress_out: if False the relevance of the last layer is displayed as an image, if true it will supress this.\n",
    "    \n",
    "    returns: rel: an array of the relevance in each layer\n",
    "    \"\"\"\n",
    "    #get the output before the softmax\n",
    "    rel = [net.give_prob(im,len(net.structure))[0]]\n",
    "    if prediction is not None:\n",
    "        #this allows the relevance of only a single element to propagate this takes into account the maxpool decision criteria.\n",
    "        mask = np.zeros(net.give_prob(im,len(net.structure))[0].shape)\n",
    "        mask[prediction] = 1\n",
    "        rel[0] = np.multiply(rel[0],mask)\n",
    "    \n",
    "    # here we get an array of the number of elements in each layer, not just the user created layers.\n",
    "    full_structure = [28*28] #image size\n",
    "    for i in range(0,net.structure.shape[0]):\n",
    "        full_structure.append(net.structure[i][0]) #hidden nodes\n",
    "    full_structure.append(10) #output layer\n",
    "    \n",
    "    #for each layer\n",
    "    for layer in range(4,-1,-1):\n",
    "        #choose z plus or z beta rule\n",
    "        if layer>0:\n",
    "            weights = net.session.run(net.weights[layer])*(net.session.run(net.weights[layer])>0)\n",
    "        else:\n",
    "            weights = net.session.run(net.weights[layer])\n",
    "\n",
    "        layer_rel = np.zeros(full_structure[layer])\n",
    "        for i in range(0,full_structure[layer]):\n",
    "            \n",
    "            #choose z plus or z beta rule\n",
    "            if layer>0:\n",
    "                x =net.give_prob(im,layer-1)[0]\n",
    "                sum_z =(x.dot(weights))\n",
    "            else:\n",
    "                x = im-net.offset\n",
    "                sum_z =x.dot(weights)+np.sum(-(net.offset*weights*(weights>0))-((1+net.offset)*weights*(weights<0)),axis=0)\n",
    "\n",
    "            #perform the summation\n",
    "            temp = 0\n",
    "            for j in range(0,full_structure[layer+1]):\n",
    "                #choose z plus or z beta rule\n",
    "                if layer>0:\n",
    "                    z = (x[i]*weights[i][j])\n",
    "                else:\n",
    "                    z = x[i]*weights[i][j]+(-net.offset*weights[i][j]*(weights[i][j]>0))-((1+net.offset)*weights[i][j]*(weights[i][j]<0))\n",
    "\n",
    "                temp = temp +  z /sum_z[j] * rel[-1][j]\n",
    "            #keep track of the layer element relevances\n",
    "            layer_rel[i] = temp\n",
    "        #keep track of the layer relevances\n",
    "        rel.append(layer_rel)\n",
    "    #plot output\n",
    "    if not suppress_out:\n",
    "        net.plot_image(rel[-1])\n",
    "    \n",
    "    #returns the whole array of relevances for each layer\n",
    "    return rel"
   ]
  },
  {
   "cell_type": "markdown",
   "metadata": {},
   "source": [
    "We can test the algorithm on images like this:"
   ]
  },
  {
   "cell_type": "code",
   "execution_count": 3,
   "metadata": {},
   "outputs": [
    {
     "data": {
      "image/png": "[encoded data removed]",
      "text/plain": [
       "<matplotlib.figure.Figure at 0x29f85e5b710>"
      ]
     },
     "metadata": {},
     "output_type": "display_data"
    },
    {
     "name": "stdout",
     "output_type": "stream",
     "text": [
      "Wall time: 22.6 s\n"
     ]
    }
   ],
   "source": [
    "%%time\n",
    "#choose an image\n",
    "im=data.test.images[6]\n",
    "#run the network\n",
    "rel = Deep_Taylor(net,im)"
   ]
  },
  {
   "cell_type": "markdown",
   "metadata": {},
   "source": [
    "If the we are concerned with only one output and not the whole output array we can use the \"prediction\" parameter. It doesn't make much difference:"
   ]
  },
  {
   "cell_type": "code",
   "execution_count": 4,
   "metadata": {},
   "outputs": [
    {
     "data": {
      "image/png": "[encoded data removed]",
      "text/plain": [
       "<matplotlib.figure.Figure at 0x29f85d351d0>"
      ]
     },
     "metadata": {},
     "output_type": "display_data"
    }
   ],
   "source": [
    "rel = Deep_Taylor(net,im,prediction = 8)"
   ]
  },
  {
   "cell_type": "markdown",
   "metadata": {},
   "source": [
    "If we wish to show the conservation of relevance:"
   ]
  },
  {
   "cell_type": "code",
   "execution_count": 5,
   "metadata": {},
   "outputs": [
    {
     "name": "stdout",
     "output_type": "stream",
     "text": [
      "4.049797058105469\n",
      "4.049797381253388\n",
      "4.049797300774421\n",
      "4.049797421972114\n",
      "4.049797440308675\n"
     ]
    }
   ],
   "source": [
    "#show conservation of relevance\n",
    "for i in range(0,len(rel)-1):\n",
    "    print(np.sum(rel[i]))"
   ]
  },
  {
   "cell_type": "markdown",
   "metadata": {},
   "source": [
    "One alternative way of showing the relevance is to multiply the original image by the produced value (note we use the ofset image here):"
   ]
  },
  {
   "cell_type": "code",
   "execution_count": 6,
   "metadata": {
    "scrolled": true
   },
   "outputs": [
    {
     "data": {
      "image/png": "[encoded data removed]",
      "text/plain": [
       "<matplotlib.figure.Figure at 0x29f866a02b0>"
      ]
     },
     "metadata": {},
     "output_type": "display_data"
    }
   ],
   "source": [
    "#plot the scaled image \n",
    "net.plot_image(np.multiply(rel[-1],im-net.offset))"
   ]
  },
  {
   "cell_type": "markdown",
   "metadata": {},
   "source": [
    "An alternative way is to use different colour chanels"
   ]
  },
  {
   "cell_type": "code",
   "execution_count": 7,
   "metadata": {},
   "outputs": [
    {
     "name": "stdout",
     "output_type": "stream",
     "text": [
      "(mask has had it's contrast boosted)\n"
     ]
    },
    {
     "data": {
      "image/png": "[encoded data removed]",
      "text/plain": [
       "<matplotlib.figure.Figure at 0x29f866d3c18>"
      ]
     },
     "metadata": {},
     "output_type": "display_data"
    }
   ],
   "source": [
    "mask = rel[-1]\n",
    "#first boost the mask contrast\n",
    "temp=1-mask\n",
    "temp = temp-min(temp)\n",
    "temp = np.divide(temp,max(temp))\n",
    "#then stack the image onto the red channel and the mask onto the green:\n",
    "\n",
    "masked = np.stack([im.reshape(28,28),temp.reshape(28,28),np.zeros([28,28])],axis= 2)\n",
    "plt.imshow(masked)\n",
    "print(\"(mask has had it's contrast boosted)\")"
   ]
  },
  {
   "cell_type": "markdown",
   "metadata": {},
   "source": [
    "In this image the areas which are strongly red have a much higher pixel value than relevance value, areas which are strongly green have a highter relevance than pixel value"
   ]
  },
  {
   "cell_type": "markdown",
   "metadata": {},
   "source": [
    "For similar results we can choose to plot the difference between the relevanece and the image:"
   ]
  },
  {
   "cell_type": "code",
   "execution_count": 8,
   "metadata": {},
   "outputs": [
    {
     "data": {
      "image/png": "[encoded data removed]",
      "text/plain": [
       "<matplotlib.figure.Figure at 0x29f86650390>"
      ]
     },
     "metadata": {},
     "output_type": "display_data"
    }
   ],
   "source": [
    "net.plot_image(temp-im)"
   ]
  },
  {
   "cell_type": "markdown",
   "metadata": {},
   "source": [
    "## Geometric Saliency"
   ]
  },
  {
   "cell_type": "markdown",
   "metadata": {},
   "source": [
    "Firstly, any image can be chosen, and we will investigate different methods of obtaining the difference between two outputs:"
   ]
  },
  {
   "cell_type": "code",
   "execution_count": 9,
   "metadata": {},
   "outputs": [
    {
     "name": "stdout",
     "output_type": "stream",
     "text": [
      "[4, 8]\n"
     ]
    },
    {
     "data": {
      "image/png": "[encoded data removed]",
      "text/plain": [
       "<matplotlib.figure.Figure at 0x29f85e29240>"
      ]
     },
     "metadata": {},
     "output_type": "display_data"
    }
   ],
   "source": [
    "im=data.test.images[6]\n",
    "Prediction=np.argmax(net.give_prob(im,netsize)) #most popular\n",
    "Comparison = net.give_prob(im,netsize).argsort()[0][-2:][0] #-2 is second most popular\n",
    "\n",
    "print([Prediction,Comparison])\n",
    "net.plot_image(im)"
   ]
  },
  {
   "cell_type": "markdown",
   "metadata": {},
   "source": [
    "The prediction class is the class with the highest score, here we will be comparing it to the class with the second highest score. The difference (before softmax) is calculated by combining the weight and bias vectors of the chosen classes. The cell below additionally demonstrates how ReLUs can be changed into matrices. and the same result is found using an if statement in each layer as when using the input specific matrices. "
   ]
  },
  {
   "cell_type": "code",
   "execution_count": 10,
   "metadata": {},
   "outputs": [
    {
     "name": "stdout",
     "output_type": "stream",
     "text": [
      "network       vs   calculation\n",
      "8.698944076736419 8.698946100183111\n"
     ]
    }
   ],
   "source": [
    "#running the network, vs single calculation\n",
    "w0 = net.session.run(net.weights[0]).copy()\n",
    "b0 = net.session.run(net.biases[0]).copy()\n",
    "\n",
    "w1 = net.session.run(net.weights[1]).copy()\n",
    "b1 = net.session.run(net.biases[1]).copy()\n",
    "\n",
    "w2 = net.session.run(net.weights[2]).copy()\n",
    "b2 = net.session.run(net.biases[2]).copy()\n",
    "\n",
    "w3 = net.session.run(net.weights[3]).copy()\n",
    "b3 = net.session.run(net.biases[3]).copy()\n",
    "\n",
    "wt= net.session.run(net.weights[4]).copy()\n",
    "bt= net.session.run(net.biases[4]).copy()\n",
    "\n",
    "#we onlt care about two outputs:\n",
    "w4=(wt[:,Prediction]-wt[:,Comparison]).copy()\n",
    "b4=(bt[Prediction]-bt[Comparison]).copy()\n",
    "\n",
    "x0 = im.flatten()+net.offset\n",
    "\n",
    "x1 = x0.dot(w0)+b0\n",
    "r1 = (1.0*(x1>=0))\n",
    "R1 = np.diag(r1)\n",
    "\n",
    "x2 = x1.dot(R1).dot(w1)+b1\n",
    "r2 = (1.0*(x2>=0))\n",
    "R2 = np.diag(r2)\n",
    "\n",
    "x3 = x2.dot(R2).dot(w2)+b2\n",
    "r3 = (1*(x3>=0))\n",
    "R3 = np.diag(r3)\n",
    "\n",
    "x4 = x3.dot(R3).dot(w3)+b3\n",
    "r4 = (1*(x4>=0))\n",
    "R4 = np.diag(r4)\n",
    "\n",
    "y = x4.dot(R4).dot(w4)+b4\n",
    "\n",
    "W = w0.dot(R1).dot(w1).dot(R2).dot(w2).dot(R3).dot(w3).dot(R4).dot(w4)\n",
    "B = (((b0.dot(R1).dot(w1)+b1).dot(R2).dot(w2)+b2).dot(R3).dot(w3)+b3).dot(R4).dot(w4)+b4\n",
    "\n",
    "print(\"network       vs   calculation\")\n",
    "print(y,x0.dot(W)+B)"
   ]
  },
  {
   "cell_type": "markdown",
   "metadata": {},
   "source": [
    "The same result is obtained when using the network on it's own, showing the code is consistient and that the maths is valid:"
   ]
  },
  {
   "cell_type": "code",
   "execution_count": 11,
   "metadata": {},
   "outputs": [
    {
     "name": "stdout",
     "output_type": "stream",
     "text": [
      "difference is:\n",
      "8.698943\n"
     ]
    }
   ],
   "source": [
    "#using the network\n",
    "probs = net.give_prob(im,netsize)[0]\n",
    "print('difference is:')\n",
    "print(probs[Prediction]-probs[Comparison])"
   ]
  },
  {
   "cell_type": "markdown",
   "metadata": {},
   "source": [
    "Simply analysing W in isolation can form the basis of a saliency method, although it doesn't make a lot of sense:"
   ]
  },
  {
   "cell_type": "code",
   "execution_count": 12,
   "metadata": {
    "scrolled": false
   },
   "outputs": [
    {
     "name": "stdout",
     "output_type": "stream",
     "text": [
      "[4, 8]\n",
      "12.74874 4.049797\n"
     ]
    },
    {
     "data": {
      "image/png": "[encoded data removed]",
      "text/plain": [
       "<matplotlib.figure.Figure at 0x29f86a1cf28>"
      ]
     },
     "metadata": {},
     "output_type": "display_data"
    },
    {
     "name": "stdout",
     "output_type": "stream",
     "text": [
      "[ 0.          0.5651914   0.          0.         12.74874     0.\n",
      "  0.11342414  0.          4.049797    0.7439949 ]\n"
     ]
    },
    {
     "data": {
      "image/png": "[encoded data removed]",
      "text/plain": [
       "<matplotlib.figure.Figure at 0x29f86a1ceb8>"
      ]
     },
     "metadata": {},
     "output_type": "display_data"
    },
    {
     "data": {
      "image/png": "[encoded data removed]",
      "text/plain": [
       "<matplotlib.figure.Figure at 0x29f86a027b8>"
      ]
     },
     "metadata": {},
     "output_type": "display_data"
    }
   ],
   "source": [
    "im=data.test.images[6]\n",
    "\n",
    "Prediction=np.argmax(net.give_prob(im,netsize)) #most popular\n",
    "Comparison = net.give_prob(im,netsize).argsort()[0][-2:][0] #-2 is second most popular\n",
    "\n",
    "probs = net.give_prob(im,netsize)[0]\n",
    "print([Prediction,Comparison])\n",
    "print(probs[Prediction],probs[Comparison])\n",
    "net.plot_image(im)\n",
    "print(probs)\n",
    "\n",
    "W,B,y=net.find_plane(im,node=[Prediction,Comparison])\n",
    "net.plot_image(W)\n",
    "net.plot_image(abs(W))"
   ]
  },
  {
   "cell_type": "markdown",
   "metadata": {},
   "source": [
    "This functionality has been built into Mnist_net and can be called as net.find_plane. when called it returns W,B and y for any node or pair of nodes. When a pair is used y = the difference in outputs.  \n"
   ]
  },
  {
   "cell_type": "markdown",
   "metadata": {},
   "source": [
    "Now we can implement the core Geometric saliency algorithm, it can be used for finding an approximation of the closest point to a given input on a decision plane. The decision plane can be for a single output or for the boundary between two outputs."
   ]
  },
  {
   "cell_type": "code",
   "execution_count": 19,
   "metadata": {},
   "outputs": [],
   "source": [
    "def GeoSal(net,x,Prediction = None, Comparison = None,bounds = [None,None],layer=None, suppress_out = False):\n",
    "    \"\"\"\n",
    "    Prediction: When Comparison is None this performs a variation of Deep fool, finding the closest image which outputs prediction class ~ 0\n",
    "    Comparison: when comparison has a value this finds the closest point which has the difference between Prediction classs and Comparison class ~ 0\n",
    "    Bounds: The output image will be forced between the bounds, \n",
    "    layer:  The output can focus on a specific layer other than the last (None defaults to last)\n",
    "    suppress_out: prevents printing of messages about convergence time\n",
    "    \n",
    "    Returns: guess,W,B,y\n",
    "    Guess is the new image, close to the original with outpu/difference of outputs very close to zero\n",
    "    W is the weight matrix which is identical to running guess through the network\n",
    "    B is the bias vector which is identical to running guess through the network\n",
    "    y is the remaining error (difference from zero)\n",
    "    \n",
    "    If there is no convergence all outputs will be None. For apropriate inputs this should always converge. \n",
    "    \"\"\"\n",
    "    \n",
    "    \n",
    "    if Comparison is not None:   \n",
    "        node = [Prediction, Comparison]\n",
    "    else:\n",
    "        node = Prediction\n",
    "    \n",
    "    factor = 1*10**-14 #this ensures the point ends up on the other side of the boundary \n",
    "\n",
    "    ##get the plane\n",
    "    guess= x.flatten()\n",
    "    W,B,y = net.find_plane(guess,node=node,layer=layer)\n",
    "    \n",
    "    if Prediction == Comparison:\n",
    "        return guess,W,B,y\n",
    "    \n",
    "    inity = y\n",
    "    guesses = [-1]\n",
    "    prevb= B\n",
    "    prevw = W\n",
    "    prevguess =[-1]\n",
    "    Found = False\n",
    "    converge = False\n",
    "    \n",
    "    i=0\n",
    "    while i<100:\n",
    "        \n",
    "        if len(guesses)>2: #this means we have hit the border twice in a row, now we look for the converging solution\n",
    "            \n",
    "            if not suppress_out:\n",
    "                print('converged to edge in: ',i)\n",
    "            \n",
    "            #find the converging solution an infinite geometric progression\n",
    "            with np.errstate(invalid='ignore'): #ignore divide by zero warning, it's handled by nan_to_num\n",
    "                delta1 = guesses[-2]-guesses[-3]\n",
    "                delta2 = guesses[-1]-guesses[-2]\n",
    "\n",
    "                r = np.nan_to_num(np.divide(delta2,delta1))\n",
    "\n",
    "                guess = guesses[-3]+np.nan_to_num(np.divide(delta1,1-r)) \n",
    "        \n",
    "                #force within bounds (just in case)\n",
    "                if bounds[0] is not None:\n",
    "                    guess=guess-bounds[0]\n",
    "                    guess=guess*(guess>0)\n",
    "                    guess=guess+bounds[0]\n",
    "\n",
    "                if bounds[1] is not None:\n",
    "                    guess=guess-bounds[1]\n",
    "                    guess=guess*(guess<0)\n",
    "                    guess=guess+bounds[1]\n",
    "                \n",
    "                guesses = [-1]\n",
    "                W,B,y=net.find_plane(guess,node = node,layer=layer) \n",
    "\n",
    "                \n",
    "\n",
    "        \n",
    "        else:\n",
    "            dist = (B+guess.dot(W))/(W.dot(W))\n",
    "            guess= guess - np.multiply(W,dist+factor)\n",
    "                        \n",
    "            #force within bounds\n",
    "            if bounds[0] is not None:\n",
    "                guess=guess-bounds[0]\n",
    "                guess=guess*(guess>0)\n",
    "                guess=guess+bounds[0]\n",
    "\n",
    "            if bounds[1] is not None:\n",
    "                guess=guess-bounds[1]\n",
    "                guess=guess*(guess<0)\n",
    "                guess=guess+bounds[1]\n",
    "\n",
    "            W,B,y=net.find_plane(guess,node = node,layer=layer)\n",
    "\n",
    "\n",
    "            #the same plane multiple times means we are at the bounds - might get a converging solution\n",
    "            if ((B == prevb).all() and (W == prevw).all()):\n",
    "                if (guess == prevguess).all():\n",
    "                    #this is due to floating point errors,when the error gets small\n",
    "                    if not suppress_out:\n",
    "                        print(\"stationary after\", i)\n",
    "                    while y>0:\n",
    "                        guess =guess+(guess-x.flatten())*1.01*y/inity\n",
    "                        if bounds[0] is not None:\n",
    "                            guess=guess-bounds[0]\n",
    "                            guess=guess*(guess>0)\n",
    "                            guess=guess+bounds[0]\n",
    "\n",
    "                        if bounds[1] is not None:\n",
    "                            guess=guess-bounds[1]\n",
    "                            guess=guess*(guess<0)\n",
    "                            guess=guess+bounds[1]\n",
    "\n",
    "                        W,B,y=net.find_plane(guess,node = node,layer=layer)\n",
    "                else:\n",
    "                    guesses.append(guess)\n",
    "            else:\n",
    "                guesses = [guess]\n",
    "\n",
    "            prevb = B\n",
    "            prevw = W\n",
    "            prevguess = guess\n",
    "        \n",
    "        \n",
    "        if (y<=0):\n",
    "            Found = True\n",
    "            if not suppress_out:\n",
    "                print('found in: ',i)\n",
    "            break\n",
    "        \n",
    "        i=i+1\n",
    "    \n",
    "    if Found == True:\n",
    "        W,B,y=net.find_plane(guess,node = node,layer=layer)\n",
    "        return guess,W,B,y\n",
    "\n",
    "    else:\n",
    "        if not suppress_out:\n",
    "            print(\"Did not find\")\n",
    "        return guess,W,B,y"
   ]
  },
  {
   "cell_type": "markdown",
   "metadata": {},
   "source": [
    "Look at a single example between a 4 and a 9, the difference is very hard to see in the first image, the second shows only the difference with increased contrast and the third shows the effect of adding 20 times the difference to the original image, to emphasise how the 4 becomes a 9."
   ]
  },
  {
   "cell_type": "code",
   "execution_count": 20,
   "metadata": {
    "scrolled": true
   },
   "outputs": [
    {
     "name": "stdout",
     "output_type": "stream",
     "text": [
      "converged to edge in:  3\n",
      "stationary after 5\n",
      "found in:  5\n",
      "error is: [-0.14879219]\n"
     ]
    },
    {
     "data": {
      "image/png": "[encoded data removed]",
      "text/plain": [
       "<matplotlib.figure.Figure at 0x29f8668b160>"
      ]
     },
     "metadata": {},
     "output_type": "display_data"
    },
    {
     "data": {
      "image/png": "[encoded data removed]",
      "text/plain": [
       "<matplotlib.figure.Figure at 0x29f86ac4a20>"
      ]
     },
     "metadata": {},
     "output_type": "display_data"
    },
    {
     "data": {
      "image/png": "[encoded data removed]",
      "text/plain": [
       "<matplotlib.figure.Figure at 0x29f86abaeb8>"
      ]
     },
     "metadata": {},
     "output_type": "display_data"
    }
   ],
   "source": [
    "temp,W,B,y = GeoSal(net,im,4,9,bounds=[0,1])\n",
    "print(\"error is:\",y)\n",
    "net.plot_image(temp)\n",
    "net.plot_image(temp-im)\n",
    "net.plot_image(im +5*(temp-im))"
   ]
  },
  {
   "cell_type": "markdown",
   "metadata": {},
   "source": [
    "The GeoSal algorithm can be used in many ways, one of the simplest is the \"weighted sum of changes\" method, shown below"
   ]
  },
  {
   "cell_type": "code",
   "execution_count": 26,
   "metadata": {
    "scrolled": false
   },
   "outputs": [
    {
     "name": "stdout",
     "output_type": "stream",
     "text": [
      "0 error is [-0.54849946]\n",
      "1 error is [-7.1128365e-05]\n",
      "2 error is [-1.2314267]\n",
      "3 error is [-0.13429332]\n",
      "4 error is [0.]\n",
      "5 error is [-0.04720827]\n",
      "6 error is [-1.0522552]\n",
      "7 error is [-1.513149]\n",
      "8 error is [-0.09535775]\n",
      "9 error is [-0.14879219]\n",
      "\n",
      " Absolute Importance:\n"
     ]
    },
    {
     "data": {
      "image/png": "[encoded data removed]",
      "text/plain": [
       "<matplotlib.figure.Figure at 0x29f865e1940>"
      ]
     },
     "metadata": {},
     "output_type": "display_data"
    },
    {
     "name": "stdout",
     "output_type": "stream",
     "text": [
      "Directional Importance:\n"
     ]
    },
    {
     "data": {
      "image/png": "[encoded data removed]",
      "text/plain": [
       "<matplotlib.figure.Figure at 0x29f8814a390>"
      ]
     },
     "metadata": {},
     "output_type": "display_data"
    },
    {
     "name": "stdout",
     "output_type": "stream",
     "text": [
      "Wall time: 4.54 s\n"
     ]
    }
   ],
   "source": [
    "%%time\n",
    "delta1 = 0*im.flatten() # create empty array\n",
    "delta2 = 0*im.flatten() # create empty array\n",
    "\n",
    "for Comparison in range(0,10):\n",
    "    #get guess for each comparison\n",
    "    border_image,W,B,y = GeoSal(net,im,Prediction, Comparison, bounds=[0,1],suppress_out = True)\n",
    "    print(Comparison,\"error is\",y)\n",
    "    #take the differences\n",
    "    diff1 = abs(border_image-im.flatten())\n",
    "    diff2 = (border_image-im.flatten())\n",
    "    \n",
    "    #add the weighted differnce to the output image\n",
    "    delta1 = delta1+diff1*net.give_prob(im)[0][Comparison]\n",
    "    delta2 = delta2+diff2*net.give_prob(im)[0][Comparison]\n",
    "\n",
    "print(\"\\n Absolute Importance:\")\n",
    "net.plot_image(delta1)\n",
    "\n",
    "print(\"Directional Importance:\")\n",
    "net.plot_image(delta2)"
   ]
  },
  {
   "cell_type": "code",
   "execution_count": 16,
   "metadata": {
    "scrolled": false
   },
   "outputs": [
    {
     "data": {
      "image/png": "[encoded data removed]",
      "text/plain": [
       "<matplotlib.figure.Figure at 0x29f86b258d0>"
      ]
     },
     "metadata": {},
     "output_type": "display_data"
    },
    {
     "name": "stdout",
     "output_type": "stream",
     "text": [
      "Absolute mask with contrast boosted\n"
     ]
    },
    {
     "data": {
      "image/png": "[encoded data removed]",
      "text/plain": [
       "<matplotlib.figure.Figure at 0x29f86b25668>"
      ]
     },
     "metadata": {},
     "output_type": "display_data"
    },
    {
     "name": "stdout",
     "output_type": "stream",
     "text": [
      "Directional mask with contrast boosted\n"
     ]
    },
    {
     "data": {
      "image/png": "[encoded data removed]",
      "text/plain": [
       "<matplotlib.figure.Figure at 0x29f86b25048>"
      ]
     },
     "metadata": {},
     "output_type": "display_data"
    }
   ],
   "source": [
    "net.plot_image(im)\n",
    "\n",
    "temp=1-delta1\n",
    "temp = temp-min(temp)\n",
    "temp = np.divide(temp,max(temp))\n",
    "\n",
    "masked = np.stack([im.reshape(28,28),temp.reshape(28,28),np.zeros([28,28])],axis= 2)\n",
    "plt.imshow(masked)\n",
    "print(\"Absolute mask with contrast boosted\")\n",
    "plt.show()\n",
    "\n",
    "temp=1-delta2\n",
    "temp = temp-min(temp)\n",
    "temp = np.divide(temp,max(temp))\n",
    "\n",
    "masked = np.stack([im.reshape(28,28),temp.reshape(28,28),np.zeros([28,28])],axis= 2)\n",
    "plt.imshow(masked)\n",
    "print(\"Directional mask with contrast boosted\")\n"
   ]
  },
  {
   "cell_type": "code",
   "execution_count": 17,
   "metadata": {
    "scrolled": false
   },
   "outputs": [
    {
     "name": "stdout",
     "output_type": "stream",
     "text": [
      "found in:  1\n"
     ]
    },
    {
     "data": {
      "image/png": "[encoded data removed]",
      "text/plain": [
       "<matplotlib.figure.Figure at 0x29f865f6c88>"
      ]
     },
     "metadata": {},
     "output_type": "display_data"
    }
   ],
   "source": [
    "#Deep fool result:\n",
    "border_image,W,B,y = GeoSal(net,im,Prediction,bounds=[0,1])\n",
    "net.plot_image(np.multiply(W,im+net.offset-border_image))\n"
   ]
  }
 ],
 "metadata": {
  "kernelspec": {
   "display_name": "Python 3",
   "language": "python",
   "name": "python3"
  },
  "language_info": {
   "codemirror_mode": {
    "name": "ipython",
    "version": 3
   },
   "file_extension": ".py",
   "mimetype": "text/x-python",
   "name": "python",
   "nbconvert_exporter": "python",
   "pygments_lexer": "ipython3",
   "version": "3.5.4"
  }
 },
 "nbformat": 4,
 "nbformat_minor": 2
}
